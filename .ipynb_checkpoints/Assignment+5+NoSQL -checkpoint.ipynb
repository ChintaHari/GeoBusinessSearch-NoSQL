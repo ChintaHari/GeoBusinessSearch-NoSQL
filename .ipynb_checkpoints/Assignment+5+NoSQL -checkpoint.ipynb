{
 "cells": [
  {
   "cell_type": "code",
   "execution_count": 53,
   "metadata": {
    "scrolled": true
   },
   "outputs": [],
   "source": [
    "from unqlite import UnQLite\n",
    "from math import *\n",
    "db = UnQLite('sample.db')\n",
    "data = db.collection('data')"
   ]
  },
  {
   "cell_type": "code",
   "execution_count": 54,
   "metadata": {
    "scrolled": true
   },
   "outputs": [
    {
     "name": "stdout",
     "output_type": "stream",
     "text": [
      "Requirement already satisfied: unqlite in c:\\users\\hchinta1\\anaconda3\\lib\\site-packages (0.9.3)\n",
      "Requirement already satisfied: Cython in c:\\users\\hchinta1\\anaconda3\\lib\\site-packages (from unqlite) (0.29.32)\n",
      "Note: you may need to restart the kernel to use updated packages.\n"
     ]
    }
   ],
   "source": [
    "pip install unqlite"
   ]
  },
  {
   "cell_type": "code",
   "execution_count": 52,
   "metadata": {},
   "outputs": [],
   "source": [
    "# Graded Cell, PartID: o1flK\n",
    "\n",
    "\n",
    "def FindBusinessBasedOnCity(cityToSearch, saveLocation1, collection):\n",
    "    data = collection.all()\n",
    "    result=[]\n",
    "    with open(saveLocation1, \"w\") as file:\n",
    "        for dataElement in data:\n",
    "            if dataElement['city'] == cityToSearch:\n",
    "                result.append(dataElement['name']+\"$\"\n",
    "                           +dataElement['full_address']+\"$\"\n",
    "                           +dataElement['city']+\"$\"\n",
    "                           +dataElement['state'])\n",
    "        result = set(result)\n",
    "        for everyResult in result:\n",
    "            file.write(everyResult+\"\\n\")\n",
    "\n",
    "def FindBusinessBasedOnLocation(categoriesToSearch, myLocation, maxDistance, saveLocation2,collection):\n",
    "    data =collection.all()\n",
    "    result = []\n",
    "    with open(saveLocation2, \"w\") as file:\n",
    "        for dataElement in data:\n",
    "            for everyCategoryElement in categoriesToSearch:\n",
    "                if everyCategoryElement in dataElement['categories']:\n",
    "                    name = dataElement['name']\n",
    "                    distance = DistanceFunction(float(dataElement['latitude']),\n",
    "                                                float(dataElement['longitude']),\n",
    "                                                float(myLocation[0]),\n",
    "                                                float(myLocation[1]))\n",
    "                    if distance <= maxDistance:\n",
    "                        result.append(name)\n",
    "        result = set(result)     \n",
    "        for everyResult in result:\n",
    "            file.write(everyResult+\"\\n\")\n",
    "    \n",
    "                        \n",
    "                        \n",
    "def DistanceFunction(latitude2,longitute2,latitude1,longitude1):\n",
    "    var_1 = radians(latitude1)\n",
    "    var_2 = radians(latitude2)\n",
    "    var_delta = radians(latitude2-latitude1)\n",
    "    var_lambda = radians(longitute2-longitude1)\n",
    "    var_a = (sin(var_delta/2) * sin(var_delta/2)) + (cos(var_1) * cos(var_2) * sin(var_lambda/2) * sin(var_lambda/2))\n",
    "    var_c = 2 * atan2(sqrt(var_a), sqrt(1-var_a))\n",
    "    var_d = 3959 * var_c\n",
    "    return var_d\n",
    "\n"
   ]
  },
  {
   "cell_type": "code",
   "execution_count": 55,
   "metadata": {},
   "outputs": [
    {
     "name": "stdout",
     "output_type": "stream",
     "text": [
      "Correct! You FindBusinessByCity function passes these test cases. This does not cover all possible test edge cases, however, so make sure that your function covers them before submitting!\n"
     ]
    }
   ],
   "source": [
    "true_results = [\"VinciTorio's Restaurant$1835 E Elliot Rd, Ste C109, Tempe, AZ 85284$Tempe$AZ\", \"P.croissants$7520 S Rural Rd, Tempe, AZ 85283$Tempe$AZ\", \"Salt Creek Home$1725 W Ruby Dr, Tempe, AZ 85284$Tempe$AZ\"]\n",
    "\n",
    "try:\n",
    "    FindBusinessBasedOnCity('Tempe', 'output_city.txt', data)\n",
    "except NameError as e:\n",
    "    print ('The FindBusinessBasedOnCity function is not defined! You must run the cell containing the function before running this evaluation cell.')\n",
    "except TypeError as e:\n",
    "    print (\"The FindBusinessBasedOnCity function is supposed to accept three arguments. Yours does not!\")\n",
    "    \n",
    "try:\n",
    "    opf = open('output_city.txt', 'r')\n",
    "except FileNotFoundError as e:\n",
    "    print (\"The FindBusinessBasedOnCity function does not write data to the correct location.\")\n",
    "    \n",
    "lines = opf.readlines()\n",
    "if len(lines) != 3:\n",
    "    print (\"The FindBusinessBasedOnCity function does not find the correct number of results, should be 3.\")\n",
    "    \n",
    "lines = [line.strip() for line in lines]\n",
    "if sorted(lines) == sorted(true_results):\n",
    "    print (\"Correct! You FindBusinessByCity function passes these test cases. This does not cover all possible test edge cases, however, so make sure that your function covers them before submitting!\")\n"
   ]
  },
  {
   "cell_type": "code",
   "execution_count": 56,
   "metadata": {},
   "outputs": [
    {
     "name": "stdout",
     "output_type": "stream",
     "text": [
      "Correct! Your FindBusinessBasedOnLocation function passes these test cases. This does not cover all possible edge cases, so make sure your function does before submitting.\n"
     ]
    }
   ],
   "source": [
    "true_results = [\"VinciTorio's Restaurant\"]\n",
    "\n",
    "try:\n",
    "    FindBusinessBasedOnLocation(['Buffets'], [33.3482589, -111.9088346], 10, 'output_loc.txt', data)\n",
    "except NameError as e: \n",
    "    print ('The FindBusinessBasedOnLocation function is not defined! You must run the cell containing the function before running this evaluation cell.')\n",
    "except TypeError as e:\n",
    "    print (\"The FindBusinessBasedOnLocation function is supposed to accept five arguments. Yours does not!\")\n",
    "    \n",
    "try:\n",
    "    opf = open('output_loc.txt','r')\n",
    "except FileNotFoundError as e:\n",
    "    print (\"The FindBusinessBasedOnLocation function does not write data to the correct location.\")\n",
    "\n",
    "lines = opf.readlines()\n",
    "if len(lines) != 1:\n",
    "    print (\"The FindBusinessBasedOnLocation function does not find the correct number of results, should be only 1.\")\n",
    "\n",
    "if lines[0].strip() == true_results[0]:\n",
    "    print (\"Correct! Your FindBusinessBasedOnLocation function passes these test cases. This does not cover all possible edge cases, so make sure your function does before submitting.\")"
   ]
  },
  {
   "cell_type": "code",
   "execution_count": null,
   "metadata": {},
   "outputs": [],
   "source": []
  }
 ],
 "metadata": {
  "kernelspec": {
   "display_name": "Python 3 (ipykernel)",
   "language": "python",
   "name": "python3"
  },
  "language_info": {
   "codemirror_mode": {
    "name": "ipython",
    "version": 3
   },
   "file_extension": ".py",
   "mimetype": "text/x-python",
   "name": "python",
   "nbconvert_exporter": "python",
   "pygments_lexer": "ipython3",
   "version": "3.9.12"
  }
 },
 "nbformat": 4,
 "nbformat_minor": 2
}
